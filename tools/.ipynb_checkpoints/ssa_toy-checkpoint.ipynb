{
 "cells": [
  {
   "cell_type": "code",
   "execution_count": 1,
   "metadata": {},
   "outputs": [
    {
     "data": {
      "text/plain": [
       "Text(0.5, 1.0, 'The Toy Time Series and its Components')"
      ]
     },
     "execution_count": 1,
     "metadata": {},
     "output_type": "execute_result"
    }
   ],
   "source": [
    "import numpy as np\n",
    "from numpy import pi\n",
    "import matplotlib.pyplot as plt\n",
    "import pandas as pd\n",
    "\n",
    "plt.rcParams['figure.figsize']=(10,8)\n",
    "plt.rcParams['font.size']=14\n",
    "plt.rcParams['image.cmap']='plasms'\n",
    "plt.rcParams['axes.linewidth']=2\n",
    "\n",
    "from cycler import cycler\n",
    "cols = plt.get_cmap('tab10').colors\n",
    "plt.rcParams['axes.prop_cycle']=cycler(color=cols)\n",
    "\n",
    "def plot_2d(m,title=''):\n",
    "    plt.imshow(m)\n",
    "    plt.xticks([])\n",
    "    plt.yticks([])\n",
    "    plt.title(title)\n",
    "    \n",
    "N=200\n",
    "t=np.arange(0,N)\n",
    "trend=0.001*(t-100)**2\n",
    "p1,p2=20,30\n",
    "periodic1=2*np.sin(2*pi*t/p1)\n",
    "periodic2=0.75*np.sin(2*pi*t/p2)\n",
    "\n",
    "np.random.seed(123)\n",
    "noise=2*(np.random.rand(N)-0.5)\n",
    "F = trend+periodic1+periodic2+noise\n",
    "\n",
    "plt.plot(t,F,lw=2.5)\n",
    "plt.plot(t,trend,alpha=0.75)\n",
    "plt.plot(t,periodic1,alpha=0.75)\n",
    "plt.plot(t,periodic2,alpha=0.75)\n",
    "plt.plot(t,noise,alpha=0.75)\n",
    "plt.legend(['Toy Series ($F$)','Trend','Periodic #1','Periodic #2','Noise'])\n",
    "plt.xlabel('$t$')\n",
    "plt.ylabel('$F(t)$')\n",
    "plt.title('The Toy Time Series and its Components')\n",
    "plt.show()"
   ]
  },
  {
   "cell_type": "code",
   "execution_count": null,
   "metadata": {},
   "outputs": [],
   "source": []
  }
 ],
 "metadata": {
  "kernelspec": {
   "display_name": "Python 3",
   "language": "python",
   "name": "python3"
  },
  "language_info": {
   "codemirror_mode": {
    "name": "ipython",
    "version": 3
   },
   "file_extension": ".py",
   "mimetype": "text/x-python",
   "name": "python",
   "nbconvert_exporter": "python",
   "pygments_lexer": "ipython3",
   "version": "3.7.3"
  }
 },
 "nbformat": 4,
 "nbformat_minor": 2
}
